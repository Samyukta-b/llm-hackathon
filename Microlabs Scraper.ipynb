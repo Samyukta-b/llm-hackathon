{
 "cells": [
  {
   "cell_type": "code",
   "execution_count": 36,
   "id": "35164621",
   "metadata": {},
   "outputs": [],
   "source": [
    "from selenium import webdriver\n",
    "from selenium.webdriver.common.by import By\n",
    "import time"
   ]
  },
  {
   "cell_type": "code",
   "execution_count": 37,
   "id": "50046d95",
   "metadata": {},
   "outputs": [],
   "source": [
    "PATH = r'/Users/src/webdrivers/chromedriver'\n",
    "cService = webdriver.ChromeService(executable_path=PATH)\n",
    "driver = webdriver.Chrome(service = cService)"
   ]
  },
  {
   "cell_type": "code",
   "execution_count": 38,
   "id": "d6605ea5",
   "metadata": {},
   "outputs": [],
   "source": [
    "driver.get(\"https://www.microlabsusa.com/our-products/\")"
   ]
  },
  {
   "cell_type": "code",
   "execution_count": 33,
   "id": "b21b05bc",
   "metadata": {},
   "outputs": [],
   "source": [
    "cat_list = driver.find_elements(By.XPATH, '//*[@class=\"product_catalog_alpha_listing\"]/li')"
   ]
  },
  {
   "cell_type": "code",
   "execution_count": null,
   "id": "d1cd8855",
   "metadata": {},
   "outputs": [],
   "source": [
    "products_map = {}"
   ]
  },
  {
   "cell_type": "code",
   "execution_count": 35,
   "id": "bffd362a",
   "metadata": {},
   "outputs": [
    {
     "name": "stdout",
     "output_type": "stream",
     "text": [
      "\n",
      "\n",
      "\n",
      "\n",
      "\n",
      "\n",
      "\n",
      "\n"
     ]
    },
    {
     "ename": "KeyboardInterrupt",
     "evalue": "Interrupted by user",
     "output_type": "error",
     "traceback": [
      "\u001b[0;31m---------------------------------------------------------------------------\u001b[0m",
      "\u001b[0;31mKeyboardInterrupt\u001b[0m                         Traceback (most recent call last)",
      "Input \u001b[0;32mIn [35]\u001b[0m, in \u001b[0;36m<cell line: 1>\u001b[0;34m()\u001b[0m\n\u001b[1;32m      1\u001b[0m \u001b[38;5;28;01mfor\u001b[39;00m cat \u001b[38;5;129;01min\u001b[39;00m cat_list:\n\u001b[1;32m      2\u001b[0m     cat\u001b[38;5;241m.\u001b[39mclick()\n\u001b[0;32m----> 3\u001b[0m     i \u001b[38;5;241m=\u001b[39m \u001b[38;5;28;43minput\u001b[39;49m\u001b[43m(\u001b[49m\u001b[43m)\u001b[49m\n\u001b[1;32m      4\u001b[0m     products \u001b[38;5;241m=\u001b[39m driver\u001b[38;5;241m.\u001b[39mfind_elements(By\u001b[38;5;241m.\u001b[39mXPATH, \u001b[38;5;124m'\u001b[39m\u001b[38;5;124m//*[@class=\u001b[39m\u001b[38;5;124m\"\u001b[39m\u001b[38;5;124mproduct_listing\u001b[39m\u001b[38;5;124m\"\u001b[39m\u001b[38;5;124m]/li/h3/a\u001b[39m\u001b[38;5;124m'\u001b[39m)\n\u001b[1;32m      5\u001b[0m     \u001b[38;5;28;01mfor\u001b[39;00m product \u001b[38;5;129;01min\u001b[39;00m products:\n",
      "File \u001b[0;32m~/opt/anaconda3/lib/python3.9/site-packages/ipykernel/kernelbase.py:1177\u001b[0m, in \u001b[0;36mKernel.raw_input\u001b[0;34m(self, prompt)\u001b[0m\n\u001b[1;32m   1173\u001b[0m \u001b[38;5;28;01mif\u001b[39;00m \u001b[38;5;129;01mnot\u001b[39;00m \u001b[38;5;28mself\u001b[39m\u001b[38;5;241m.\u001b[39m_allow_stdin:\n\u001b[1;32m   1174\u001b[0m     \u001b[38;5;28;01mraise\u001b[39;00m StdinNotImplementedError(\n\u001b[1;32m   1175\u001b[0m         \u001b[38;5;124m\"\u001b[39m\u001b[38;5;124mraw_input was called, but this frontend does not support input requests.\u001b[39m\u001b[38;5;124m\"\u001b[39m\n\u001b[1;32m   1176\u001b[0m     )\n\u001b[0;32m-> 1177\u001b[0m \u001b[38;5;28;01mreturn\u001b[39;00m \u001b[38;5;28;43mself\u001b[39;49m\u001b[38;5;241;43m.\u001b[39;49m\u001b[43m_input_request\u001b[49m\u001b[43m(\u001b[49m\n\u001b[1;32m   1178\u001b[0m \u001b[43m    \u001b[49m\u001b[38;5;28;43mstr\u001b[39;49m\u001b[43m(\u001b[49m\u001b[43mprompt\u001b[49m\u001b[43m)\u001b[49m\u001b[43m,\u001b[49m\n\u001b[1;32m   1179\u001b[0m \u001b[43m    \u001b[49m\u001b[38;5;28;43mself\u001b[39;49m\u001b[38;5;241;43m.\u001b[39;49m\u001b[43m_parent_ident\u001b[49m\u001b[43m[\u001b[49m\u001b[38;5;124;43m\"\u001b[39;49m\u001b[38;5;124;43mshell\u001b[39;49m\u001b[38;5;124;43m\"\u001b[39;49m\u001b[43m]\u001b[49m\u001b[43m,\u001b[49m\n\u001b[1;32m   1180\u001b[0m \u001b[43m    \u001b[49m\u001b[38;5;28;43mself\u001b[39;49m\u001b[38;5;241;43m.\u001b[39;49m\u001b[43mget_parent\u001b[49m\u001b[43m(\u001b[49m\u001b[38;5;124;43m\"\u001b[39;49m\u001b[38;5;124;43mshell\u001b[39;49m\u001b[38;5;124;43m\"\u001b[39;49m\u001b[43m)\u001b[49m\u001b[43m,\u001b[49m\n\u001b[1;32m   1181\u001b[0m \u001b[43m    \u001b[49m\u001b[43mpassword\u001b[49m\u001b[38;5;241;43m=\u001b[39;49m\u001b[38;5;28;43;01mFalse\u001b[39;49;00m\u001b[43m,\u001b[49m\n\u001b[1;32m   1182\u001b[0m \u001b[43m\u001b[49m\u001b[43m)\u001b[49m\n",
      "File \u001b[0;32m~/opt/anaconda3/lib/python3.9/site-packages/ipykernel/kernelbase.py:1219\u001b[0m, in \u001b[0;36mKernel._input_request\u001b[0;34m(self, prompt, ident, parent, password)\u001b[0m\n\u001b[1;32m   1216\u001b[0m             \u001b[38;5;28;01mbreak\u001b[39;00m\n\u001b[1;32m   1217\u001b[0m \u001b[38;5;28;01mexcept\u001b[39;00m \u001b[38;5;167;01mKeyboardInterrupt\u001b[39;00m:\n\u001b[1;32m   1218\u001b[0m     \u001b[38;5;66;03m# re-raise KeyboardInterrupt, to truncate traceback\u001b[39;00m\n\u001b[0;32m-> 1219\u001b[0m     \u001b[38;5;28;01mraise\u001b[39;00m \u001b[38;5;167;01mKeyboardInterrupt\u001b[39;00m(\u001b[38;5;124m\"\u001b[39m\u001b[38;5;124mInterrupted by user\u001b[39m\u001b[38;5;124m\"\u001b[39m) \u001b[38;5;28;01mfrom\u001b[39;00m \u001b[38;5;28;01mNone\u001b[39;00m\n\u001b[1;32m   1220\u001b[0m \u001b[38;5;28;01mexcept\u001b[39;00m \u001b[38;5;167;01mException\u001b[39;00m:\n\u001b[1;32m   1221\u001b[0m     \u001b[38;5;28mself\u001b[39m\u001b[38;5;241m.\u001b[39mlog\u001b[38;5;241m.\u001b[39mwarning(\u001b[38;5;124m\"\u001b[39m\u001b[38;5;124mInvalid Message:\u001b[39m\u001b[38;5;124m\"\u001b[39m, exc_info\u001b[38;5;241m=\u001b[39m\u001b[38;5;28;01mTrue\u001b[39;00m)\n",
      "\u001b[0;31mKeyboardInterrupt\u001b[0m: Interrupted by user"
     ]
    }
   ],
   "source": [
    "for cat in cat_list:\n",
    "    cat.click()\n",
    "    i = input()\n",
    "    products = driver.find_elements(By.XPATH, '//*[@class=\"product_listing\"]/li/h3/a')\n",
    "    for product in products:\n",
    "        link = product.get_attribute(\"href\")\n",
    "        title = product.get_attribute(\"innerHTML\")\n",
    "        products_map[title] = link"
   ]
  },
  {
   "cell_type": "code",
   "execution_count": 39,
   "id": "04399905",
   "metadata": {},
   "outputs": [],
   "source": [
    "products = driver.find_elements(By.XPATH, '//*[@class=\"product_listing\"]/li/h3/a')\n",
    "for product in products:\n",
    "    link = product.get_attribute(\"href\")\n",
    "    title = product.get_attribute(\"innerHTML\")\n",
    "    products_map[title] = link"
   ]
  },
  {
   "cell_type": "code",
   "execution_count": 41,
   "id": "39bce573",
   "metadata": {},
   "outputs": [
    {
     "name": "stdout",
     "output_type": "stream",
     "text": [
      "{\n",
      "    \"Acetazolamide Extended-Release Capsules\": \"https://www.microlabsusa.com/our-products/acetazolamide-extended-release-capsules\",\n",
      "    \"Amlodipine Besylate and Olmesartan Medoxomil Tablets\": \"https://www.microlabsusa.com/our-products/amlodipine-besylate-and-olmesartan-medoxomil-tablets\",\n",
      "    \"Amoxicillin and Clavulanate Potassium for Oral Suspension, USP\": \"https://www.microlabsusa.com/our-products/amoxicillin-and-clavulanate-potassium-for-oral-suspension-usp\",\n",
      "    \"Amoxicillin and Clavulanate Potassium Tablets, USP\": \"https://www.microlabsusa.com/our-products/amoxicillin-and-clavulanate-potassium-tablets-usp\",\n",
      "    \"Amoxicillin Capsules, USP\": \"https://www.microlabsusa.com/our-products/amoxicillin-capsules-usp\",\n",
      "    \"Aspirin and Extended-Release Dipyridamole Capsules\": \"https://www.microlabsusa.com/our-products/aspirin-and-extended-release-dipyridamole-capsules\",\n",
      "    \"Atorvastatin Calcium Tablets\": \"https://www.microlabsusa.com/our-products/atorvastatin-calcium-tablets\",\n",
      "    \"Bimatoprost Ophthalmic Solution\": \"https://www.microlabsusa.com/our-products/bimatoprost-ophthalmic-solution\",\n",
      "    \"Celecoxib capsules\": \"https://www.microlabsusa.com/our-products/celecoxib-capsules\",\n",
      "    \"Chlordiazepoxide Hydrochloride and Clidinium Bromide Capsules, USP\": \"https://www.microlabsusa.com/our-products/chlordiazepoxide-hydrochloride-and-clidinium-bromide-capsules-usp\",\n",
      "    \"Clindamycin Hydrochloride Capsules, USP\": \"https://www.microlabsusa.com/our-products/clindamycin-hydrochloride-capsules-usp\",\n",
      "    \"Clobazam Tablets\": \"https://www.microlabsusa.com/our-products/clobazam-tablets\",\n",
      "    \"Clobetasol Propionate Topical Solution, USP\": \"https://www.microlabsusa.com/our-products/clobetasol-propionate-topical-solution-usp\",\n",
      "    \"Clomipramine Hydrochloride Capsules, USP\": \"https://www.microlabsusa.com/our-products/clomipramine-hydrochloride-capsules-usp\",\n",
      "    \"Cromolyn Sodium Inhalation Solution, USP\": \"https://www.microlabsusa.com/our-products/cromolyn-sodium-inhalation-solution-usp\",\n",
      "    \"Cromolyn Sodium Oral Solution\": \"https://www.microlabsusa.com/our-products/cromolyn-sodium-oral-solution\",\n",
      "    \"Dalfampridine Extended-Release Tablets\": \"https://www.microlabsusa.com/our-products/dalfampridine-extended-release-tablets\",\n",
      "    \"Diclofenac Sodium and Misoprostol Delayed-Release Tablets, USP\": \"https://www.microlabsusa.com/our-products/diclofenac-sodium-and-misoprostol-delayed-release-tablets-usp\",\n",
      "    \"Dorzolamide HCl and Timolol Maleate Ophthalmic Solution, USP\": \"https://www.microlabsusa.com/our-products/dorzolamide-hcl-and-timolol-maleate-ophthalmic-solution-usp\",\n",
      "    \"Dorzolamide HCl and Timolol Maleate Ophthalmic Solution, USP (Preservative Free)\": \"https://www.microlabsusa.com/our-products/dorzolamide-hcl-and-timolol-maleate-ophthalmic-solution-usppreservative-free\",\n",
      "    \"Dorzolamide HCl Ophthalmic Solution, USP\": \"https://www.microlabsusa.com/our-products/dorzolamide-hcl-ophthalmic-solution-usp\",\n",
      "    \"Famotidine for Oral Suspension, USP\": \"https://www.microlabsusa.com/our-products/famotidine-for-oral-suspension-usp\",\n",
      "    \"Fenofibric Acid Delayed-Release Capsules\": \"https://www.microlabsusa.com/our-products/fenofibric-acid-delayed-release-capsules\",\n",
      "    \"Formoterol Fumarate Inhalation Solution\": \"https://www.microlabsusa.com/our-products/acetazolamide-extended-release-capsules-2\",\n",
      "    \"Glimepiride Tablets, USP\": \"https://www.microlabsusa.com/our-products/glimepiride-tablets-usp\",\n",
      "    \"Ketorolac Tromethamine Ophthalmic Solution\": \"https://www.microlabsusa.com/our-products/ketorolac-tromethamine-ophthalmic-solution\",\n",
      "    \"Levocetirizine Dihydrochloride Tablets, USP\": \"https://www.microlabsusa.com/our-products/levocetirizine-dihydrochloride-tablets-usp\",\n",
      "    \"Mefenamic Acid Capsules, USP\": \"https://www.microlabsusa.com/our-products/mefenamic-acid-capsules-usp\",\n",
      "    \"Metformin Hydrochloride Extended-Release Tablets, USP\": \"https://www.microlabsusa.com/our-products/metformin-hydrochloride-extended-release-tablets-usp\",\n",
      "    \"Metformin Hydrochloride Oral Solution\": \"https://www.microlabsusa.com/our-products/metformin-hydrochloride-oral-solution\",\n",
      "    \"Methenamine Hippurate Tablets, USP\": \"https://www.microlabsusa.com/our-products/methenamine-hippurate-tablets-usp\",\n",
      "    \"Olmesartan Medoxomil Tablets, USP\": \"https://www.microlabsusa.com/our-products/olmesartan-medoxomil-tablets-usp\",\n",
      "    \"Piroxicam Capsules, USP\": \"https://www.microlabsusa.com/our-products/piroxicam-capsules-usp\",\n",
      "    \"Ramelteon Tablets\": \"https://www.microlabsusa.com/our-products/ramelteon-tablets\",\n",
      "    \"Ranolazine Extended-Release Tablets\": \"https://www.microlabsusa.com/our-products/ranolazine-extended-release-tablets\",\n",
      "    \"Rasagiline Tablets\": \"https://www.microlabsusa.com/our-products/rasagiline-tablets\",\n",
      "    \"Roflumilast Tablets\": \"https://www.microlabsusa.com/our-products/roflumilast\",\n",
      "    \"Rufinamide Tablets, USP\": \"https://www.microlabsusa.com/our-products/rufinamide-tablets-usp\",\n",
      "    \"Tafluprost Opthalmic Solution\": \"https://www.microlabsusa.com/our-products/tafluprost-opthalmic-solution\",\n",
      "    \"Telmisartan Tablets, USP\": \"https://www.microlabsusa.com/our-products/telmisartan-tablets-usp\",\n",
      "    \"Timolol Maleate Ophthalmic Solution, USP\": \"https://www.microlabsusa.com/our-products/timolol-maleate-ophthalmic-solution-usp\",\n",
      "    \"Timolol Maleate Ophthalmic Solution, USP (Preservative-Free)\": \"https://www.microlabsusa.com/our-products/timolol-maleate-ophthalmic-solution-usp-preservative-free\",\n",
      "    \"Tobramycin Inhalation Solution, USP\": \"https://www.microlabsusa.com/our-products/tobramycin-inhalation-solution-usp\",\n",
      "    \"Travoprost Ophthalmic Solution, USP\": \"https://www.microlabsusa.com/our-products/travoprost-ophthalmic-solution-usp\"\n",
      "}\n"
     ]
    }
   ],
   "source": [
    "print(json.dumps(products_map, indent=4))"
   ]
  },
  {
   "cell_type": "code",
   "execution_count": 31,
   "id": "5e360f68",
   "metadata": {},
   "outputs": [
    {
     "name": "stdout",
     "output_type": "stream",
     "text": [
      "{\n",
      "    \"Acetazolamide Extended-Release Capsules\": \"https://www.microlabsusa.com/our-products/acetazolamide-extended-release-capsules\",\n",
      "    \"Amlodipine Besylate and Olmesartan Medoxomil Tablets\": \"https://www.microlabsusa.com/our-products/amlodipine-besylate-and-olmesartan-medoxomil-tablets\",\n",
      "    \"Amoxicillin and Clavulanate Potassium for Oral Suspension, USP\": \"https://www.microlabsusa.com/our-products/amoxicillin-and-clavulanate-potassium-for-oral-suspension-usp\",\n",
      "    \"Amoxicillin and Clavulanate Potassium Tablets, USP\": \"https://www.microlabsusa.com/our-products/amoxicillin-and-clavulanate-potassium-tablets-usp\",\n",
      "    \"Amoxicillin Capsules, USP\": \"https://www.microlabsusa.com/our-products/amoxicillin-capsules-usp\",\n",
      "    \"Aspirin and Extended-Release Dipyridamole Capsules\": \"https://www.microlabsusa.com/our-products/aspirin-and-extended-release-dipyridamole-capsules\",\n",
      "    \"Atorvastatin Calcium Tablets\": \"https://www.microlabsusa.com/our-products/atorvastatin-calcium-tablets\",\n",
      "    \"Bimatoprost Ophthalmic Solution\": \"https://www.microlabsusa.com/our-products/bimatoprost-ophthalmic-solution\",\n",
      "    \"Celecoxib capsules\": \"https://www.microlabsusa.com/our-products/celecoxib-capsules\",\n",
      "    \"Chlordiazepoxide Hydrochloride and Clidinium Bromide Capsules, USP\": \"https://www.microlabsusa.com/our-products/chlordiazepoxide-hydrochloride-and-clidinium-bromide-capsules-usp\",\n",
      "    \"Clindamycin Hydrochloride Capsules, USP\": \"https://www.microlabsusa.com/our-products/clindamycin-hydrochloride-capsules-usp\",\n",
      "    \"Clobazam Tablets\": \"https://www.microlabsusa.com/our-products/clobazam-tablets\",\n",
      "    \"Clobetasol Propionate Topical Solution, USP\": \"https://www.microlabsusa.com/our-products/clobetasol-propionate-topical-solution-usp\",\n",
      "    \"Clomipramine Hydrochloride Capsules, USP\": \"https://www.microlabsusa.com/our-products/clomipramine-hydrochloride-capsules-usp\",\n",
      "    \"Cromolyn Sodium Inhalation Solution, USP\": \"https://www.microlabsusa.com/our-products/cromolyn-sodium-inhalation-solution-usp\",\n",
      "    \"Cromolyn Sodium Oral Solution\": \"https://www.microlabsusa.com/our-products/cromolyn-sodium-oral-solution\",\n",
      "    \"Dalfampridine Extended-Release Tablets\": \"https://www.microlabsusa.com/our-products/dalfampridine-extended-release-tablets\",\n",
      "    \"Diclofenac Sodium and Misoprostol Delayed-Release Tablets, USP\": \"https://www.microlabsusa.com/our-products/diclofenac-sodium-and-misoprostol-delayed-release-tablets-usp\",\n",
      "    \"Dorzolamide HCl and Timolol Maleate Ophthalmic Solution, USP\": \"https://www.microlabsusa.com/our-products/dorzolamide-hcl-and-timolol-maleate-ophthalmic-solution-usp\",\n",
      "    \"Dorzolamide HCl and Timolol Maleate Ophthalmic Solution, USP (Preservative Free)\": \"https://www.microlabsusa.com/our-products/dorzolamide-hcl-and-timolol-maleate-ophthalmic-solution-usppreservative-free\",\n",
      "    \"Dorzolamide HCl Ophthalmic Solution, USP\": \"https://www.microlabsusa.com/our-products/dorzolamide-hcl-ophthalmic-solution-usp\",\n",
      "    \"Famotidine for Oral Suspension, USP\": \"https://www.microlabsusa.com/our-products/famotidine-for-oral-suspension-usp\",\n",
      "    \"Fenofibric Acid Delayed-Release Capsules\": \"https://www.microlabsusa.com/our-products/fenofibric-acid-delayed-release-capsules\",\n",
      "    \"Formoterol Fumarate Inhalation Solution\": \"https://www.microlabsusa.com/our-products/acetazolamide-extended-release-capsules-2\",\n",
      "    \"Glimepiride Tablets, USP\": \"https://www.microlabsusa.com/our-products/glimepiride-tablets-usp\"\n",
      "}\n"
     ]
    }
   ],
   "source": [
    "new = {}\n",
    "for k in products_map:\n",
    "    v = products_map[k]\n",
    "    new[v] = k\n",
    "\n",
    "import json\n",
    "print(json.dumps(new, indent=4))"
   ]
  }
 ],
 "metadata": {
  "kernelspec": {
   "display_name": "Python 3 (ipykernel)",
   "language": "python",
   "name": "python3"
  },
  "language_info": {
   "codemirror_mode": {
    "name": "ipython",
    "version": 3
   },
   "file_extension": ".py",
   "mimetype": "text/x-python",
   "name": "python",
   "nbconvert_exporter": "python",
   "pygments_lexer": "ipython3",
   "version": "3.9.13"
  }
 },
 "nbformat": 4,
 "nbformat_minor": 5
}
